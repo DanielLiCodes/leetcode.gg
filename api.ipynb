{
 "cells": [
  {
   "cell_type": "code",
   "execution_count": 23,
   "id": "9211cc54",
   "metadata": {},
   "outputs": [
    {
     "name": "stdout",
     "output_type": "stream",
     "text": [
      "{'data': {'matchedUser': {'contestBadge': None, 'username': 'ScurySnek', 'githubUrl': None, 'profile': {'ranking': 165682, 'userAvatar': 'https://s3-us-west-1.amazonaws.com/s3-lc-upload/assets/default_avatar.jpg', 'aboutMe': '', 'skillTags': [], 'reputation': 0, 'solutionCount': 4}, 'submitStats': {'acSubmissionNum': [{'difficulty': 'All', 'count': 294, 'submissions': 562}, {'difficulty': 'Easy', 'count': 106, 'submissions': 251}, {'difficulty': 'Medium', 'count': 168, 'submissions': 283}, {'difficulty': 'Hard', 'count': 20, 'submissions': 28}]}}}}\n"
     ]
    }
   ],
   "source": [
    "import requests\n",
    "\n",
    "body = \"\"\"\n",
    "query userPublicProfile($username: String!){\n",
    "    matchedUser(username: $username){\n",
    "        contestBadge {\n",
    "            name\n",
    "            expired\n",
    "            hoverText\n",
    "            icon\n",
    "        }\n",
    "        username\n",
    "        githubUrl\n",
    "        profile{\n",
    "            ranking\n",
    "            userAvatar\n",
    "            aboutMe\n",
    "            skillTags\n",
    "            reputation\n",
    "            solutionCount\n",
    "        }\n",
    "        submitStats {\n",
    "            acSubmissionNum {\n",
    "              difficulty\n",
    "              count\n",
    "              submissions\n",
    "            }\n",
    "        }\n",
    "    }\n",
    "}\"\"\"\n",
    "\n",
    "data = {\n",
    "    \"variables\": {\"username\": \"ScurySnek\"},\n",
    "    \"query\": body,\n",
    "}\n",
    "\n",
    "r = requests.post(\"https://leetcode.com/graphql\", json=data).json()\n",
    "print(r)"
   ]
  },
  {
   "cell_type": "code",
   "execution_count": 24,
   "id": "831c0054",
   "metadata": {},
   "outputs": [
    {
     "name": "stdout",
     "output_type": "stream",
     "text": [
      "{'contestBadge': None, 'username': 'ScurySnek', 'githubUrl': None, 'profile': {'ranking': 165682, 'userAvatar': 'https://s3-us-west-1.amazonaws.com/s3-lc-upload/assets/default_avatar.jpg', 'aboutMe': '', 'skillTags': [], 'reputation': 0, 'solutionCount': 4}, 'submitStats': {'acSubmissionNum': [{'difficulty': 'All', 'count': 294, 'submissions': 562}, {'difficulty': 'Easy', 'count': 106, 'submissions': 251}, {'difficulty': 'Medium', 'count': 168, 'submissions': 283}, {'difficulty': 'Hard', 'count': 20, 'submissions': 28}]}}\n"
     ]
    }
   ],
   "source": [
    "print(r['data']['matchedUser'])"
   ]
  },
  {
   "cell_type": "code",
   "execution_count": 25,
   "id": "ae4a9e95",
   "metadata": {},
   "outputs": [],
   "source": [
    "user = {}\n",
    "user['username'] = r['data']['matchedUser']['username']\n",
    "info = {}\n",
    "info['pfp'] = r['data']['matchedUser']['profile']['userAvatar']\n",
    "info['aboutMe'] = r['data']['matchedUser']['profile']['aboutMe']\n",
    "stats = {}\n",
    "stats['ranking'] = r['data']['matchedUser']['profile']['ranking']\n",
    "stats['totalSolved'] = r['data']['matchedUser']['submitStats']['acSubmissionNum'][0]['count']\n",
    "stats['hardSolve'] = r['data']['matchedUser']['submitStats']['acSubmissionNum'][3]['count']\n",
    "stats['medSolve'] = r['data']['matchedUser']['submitStats']['acSubmissionNum'][2]['count']\n",
    "stats['easySolve'] = r['data']['matchedUser']['submitStats']['acSubmissionNum'][1]['count']"
   ]
  },
  {
   "cell_type": "code",
   "execution_count": 26,
   "id": "b4ee8105",
   "metadata": {},
   "outputs": [
    {
     "data": {
      "text/plain": [
       "{'ranking': 165682,\n",
       " 'totalSolved': 294,\n",
       " 'hardSolve': 20,\n",
       " 'medSolve': 168,\n",
       " 'easySolve': 106}"
      ]
     },
     "execution_count": 26,
     "metadata": {},
     "output_type": "execute_result"
    }
   ],
   "source": [
    "stats"
   ]
  }
 ],
 "metadata": {
  "kernelspec": {
   "display_name": "Python 3 (ipykernel)",
   "language": "python",
   "name": "python3"
  },
  "language_info": {
   "codemirror_mode": {
    "name": "ipython",
    "version": 3
   },
   "file_extension": ".py",
   "mimetype": "text/x-python",
   "name": "python",
   "nbconvert_exporter": "python",
   "pygments_lexer": "ipython3",
   "version": "3.9.7"
  }
 },
 "nbformat": 4,
 "nbformat_minor": 5
}

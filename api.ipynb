{
 "cells": [
  {
   "cell_type": "code",
   "execution_count": 27,
   "id": "bc2ee4bb",
   "metadata": {},
   "outputs": [
    {
     "name": "stdout",
     "output_type": "stream",
     "text": [
      "{'data': {'matchedUser': {'contestBadge': None, 'username': 'ScurySnek', 'githubUrl': None, 'profile': {'ranking': 165682, 'userAvatar': 'https://s3-us-west-1.amazonaws.com/s3-lc-upload/assets/default_avatar.jpg', 'aboutMe': '', 'skillTags': [], 'reputation': 0, 'solutionCount': 4}, 'submitStats': {'acSubmissionNum': [{'difficulty': 'All', 'count': 294, 'submissions': 562}, {'difficulty': 'Easy', 'count': 106, 'submissions': 251}, {'difficulty': 'Medium', 'count': 168, 'submissions': 283}, {'difficulty': 'Hard', 'count': 20, 'submissions': 28}]}, 'languageProblemCount': [{'languageName': 'C++', 'problemsSolved': 94}, {'languageName': 'Java', 'problemsSolved': 6}, {'languageName': 'Python', 'problemsSolved': 59}, {'languageName': 'Python3', 'problemsSolved': 221}]}}}\n"
     ]
    }
   ],
   "source": [
    "import requests\n",
    "\n",
    "body = \"\"\"\n",
    "query userPublicProfile($username: String!){\n",
    "    matchedUser(username: $username){\n",
    "        contestBadge {\n",
    "            name\n",
    "            expired\n",
    "            hoverText\n",
    "            icon\n",
    "        }\n",
    "        username\n",
    "        githubUrl\n",
    "        profile{\n",
    "            ranking\n",
    "            userAvatar\n",
    "            aboutMe\n",
    "            skillTags\n",
    "            reputation\n",
    "            solutionCount\n",
    "        }\n",
    "        submitStats {\n",
    "            acSubmissionNum {\n",
    "              difficulty\n",
    "              count\n",
    "              submissions\n",
    "            }\n",
    "        }\n",
    "        languageProblemCount {      \n",
    "            languageName\n",
    "            problemsSolved    \n",
    "        }\n",
    "    }\n",
    "}\"\"\"\n",
    "\n",
    "data = {\n",
    "    \"variables\": {\"username\": \"ScurySnek\"},\n",
    "    \"query\": body,\n",
    "}\n",
    "\n",
    "r = requests.post(\"https://leetcode.com/graphql\", json=data).json()\n",
    "print(r)"
   ]
  },
  {
   "cell_type": "code",
   "execution_count": 24,
   "id": "bf1cd5a1",
   "metadata": {},
   "outputs": [
    {
     "name": "stdout",
     "output_type": "stream",
     "text": [
      "{'contestBadge': None, 'username': 'ScurySnek', 'githubUrl': None, 'profile': {'ranking': 165682, 'userAvatar': 'https://s3-us-west-1.amazonaws.com/s3-lc-upload/assets/default_avatar.jpg', 'aboutMe': '', 'skillTags': [], 'reputation': 0, 'solutionCount': 4}, 'submitStats': {'acSubmissionNum': [{'difficulty': 'All', 'count': 294, 'submissions': 562}, {'difficulty': 'Easy', 'count': 106, 'submissions': 251}, {'difficulty': 'Medium', 'count': 168, 'submissions': 283}, {'difficulty': 'Hard', 'count': 20, 'submissions': 28}]}}\n"
     ]
    }
   ],
   "source": [
    "print(r['data']['matchedUser'])"
   ]
  },
  {
   "cell_type": "code",
   "execution_count": null,
   "id": "3ca48b84",
   "metadata": {},
   "outputs": [],
   "source": []
  },
  {
   "cell_type": "code",
   "execution_count": 52,
   "id": "3ee287e6",
   "metadata": {},
   "outputs": [
    {
     "ename": "SyntaxError",
     "evalue": "cannot assign to literal (3770201460.py, line 2)",
     "output_type": "error",
     "traceback": [
      "\u001b[0;36m  File \u001b[0;32m\"/var/folders/90/v46bdzhs5hjclpk5bnpf_h000000gn/T/ipykernel_36342/3770201460.py\"\u001b[0;36m, line \u001b[0;32m2\u001b[0m\n\u001b[0;31m    info = ['username'] = r['data']['matchedUser']['username']\u001b[0m\n\u001b[0m            ^\u001b[0m\n\u001b[0;31mSyntaxError\u001b[0m\u001b[0;31m:\u001b[0m cannot assign to literal\n"
     ]
    }
   ],
   "source": [
    "user = {}\n",
    "info = ['username'] = r['data']['matchedUser']['username']\n",
    "info['pfp'] = r['data']['matchedUser']['profile']['userAvatar']\n",
    "info['aboutMe'] = r['data']['matchedUser']['profile']['aboutMe']\n",
    "stats = {}\n",
    "stats['ranking'] = r['data']['matchedUser']['profile']['ranking']\n",
    "stats['totalSolved'] = r['data']['matchedUser']['submitStats']['acSubmissionNum'][0]['count']\n",
    "stats['hardSolve'] = r['data']['matchedUser']['submitStats']['acSubmissionNum'][3]['count']\n",
    "stats['medSolve'] = r['data']['matchedUser']['submitStats']['acSubmissionNum'][2]['count']\n",
    "stats['easySolve'] = r['data']['matchedUser']['submitStats']['acSubmissionNum'][1]['count']\n",
    "languageInfo = sorted(r['data']['matchedUser']['languageProblemCount'], key=lambda x : -x['problemsSolved'])\n",
    "user['stats'] = stats\n",
    "user['info'] = info\n",
    "user['languageInfo'] = languageInfo"
   ]
  },
  {
   "cell_type": "code",
   "execution_count": 48,
   "id": "ff84f2dd",
   "metadata": {
    "collapsed": true
   },
   "outputs": [
    {
     "ename": "TypeError",
     "evalue": "'<' not supported between instances of 'dict' and 'dict'",
     "output_type": "error",
     "traceback": [
      "\u001b[0;31m---------------------------------------------------------------------------\u001b[0m",
      "\u001b[0;31mTypeError\u001b[0m                                 Traceback (most recent call last)",
      "\u001b[0;32m/var/folders/90/v46bdzhs5hjclpk5bnpf_h000000gn/T/ipykernel_36342/2944048522.py\u001b[0m in \u001b[0;36m<module>\u001b[0;34m\u001b[0m\n\u001b[0;32m----> 1\u001b[0;31m \u001b[0mlanguageInfo\u001b[0m\u001b[0;34m.\u001b[0m\u001b[0msort\u001b[0m\u001b[0;34m(\u001b[0m\u001b[0;34m)\u001b[0m\u001b[0;34m\u001b[0m\u001b[0;34m\u001b[0m\u001b[0m\n\u001b[0m",
      "\u001b[0;31mTypeError\u001b[0m: '<' not supported between instances of 'dict' and 'dict'"
     ]
    }
   ],
   "source": []
  },
  {
   "cell_type": "code",
   "execution_count": 49,
   "id": "b2b53251",
   "metadata": {
    "scrolled": true
   },
   "outputs": [
    {
     "data": {
      "text/plain": [
       "[{'languageName': 'Python3', 'problemsSolved': 221},\n",
       " {'languageName': 'C++', 'problemsSolved': 94},\n",
       " {'languageName': 'Python', 'problemsSolved': 59},\n",
       " {'languageName': 'Java', 'problemsSolved': 6}]"
      ]
     },
     "execution_count": 49,
     "metadata": {},
     "output_type": "execute_result"
    }
   ],
   "source": [
    "languageInfo"
   ]
  },
  {
   "cell_type": "code",
   "execution_count": null,
   "id": "77857382",
   "metadata": {},
   "outputs": [],
   "source": []
  },
  {
   "cell_type": "code",
   "execution_count": null,
   "id": "9383843e",
   "metadata": {},
   "outputs": [],
   "source": []
  }
 ],
 "metadata": {
  "kernelspec": {
   "display_name": "Python 3 (ipykernel)",
   "language": "python",
   "name": "python3"
  },
  "language_info": {
   "codemirror_mode": {
    "name": "ipython",
    "version": 3
   },
   "file_extension": ".py",
   "mimetype": "text/x-python",
   "name": "python",
   "nbconvert_exporter": "python",
   "pygments_lexer": "ipython3",
   "version": "3.9.7"
  }
 },
 "nbformat": 4,
 "nbformat_minor": 5
}

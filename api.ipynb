{
 "cells": [
  {
   "cell_type": "code",
   "execution_count": 74,
   "id": "5304f262",
   "metadata": {},
   "outputs": [
    {
     "name": "stdout",
     "output_type": "stream",
     "text": [
      "{'data': {'matchedUser': {'contestBadge': None, 'username': 'ScurySnek', 'githubUrl': None, 'profile': {'ranking': 165682, 'userAvatar': 'https://s3-us-west-1.amazonaws.com/s3-lc-upload/assets/default_avatar.jpg', 'aboutMe': '', 'skillTags': [], 'reputation': 0, 'solutionCount': 4}, 'submitStats': {'acSubmissionNum': [{'difficulty': 'All', 'count': 294, 'submissions': 562}, {'difficulty': 'Easy', 'count': 106, 'submissions': 251}, {'difficulty': 'Medium', 'count': 168, 'submissions': 283}, {'difficulty': 'Hard', 'count': 20, 'submissions': 28}]}, 'problemsSolvedBeatsStats': [{'difficulty': 'Easy', 'percentage': 92.23}, {'difficulty': 'Medium', 'percentage': 92.65}, {'difficulty': 'Hard', 'percentage': 77.53}], 'languageProblemCount': [{'languageName': 'C++', 'problemsSolved': 94}, {'languageName': 'Java', 'problemsSolved': 6}, {'languageName': 'Python', 'problemsSolved': 59}, {'languageName': 'Python3', 'problemsSolved': 221}], 'tagProblemCounts': {'advanced': [{'tagName': 'Data Stream', 'problemsSolved': 3}, {'tagName': 'Game Theory', 'problemsSolved': 1}, {'tagName': 'Backtracking', 'problemsSolved': 15}, {'tagName': 'Quickselect', 'problemsSolved': 2}, {'tagName': 'Dynamic Programming', 'problemsSolved': 55}, {'tagName': 'Divide and Conquer', 'problemsSolved': 11}, {'tagName': 'Trie', 'problemsSolved': 5}, {'tagName': 'Union Find', 'problemsSolved': 6}, {'tagName': 'Binary Indexed Tree', 'problemsSolved': 1}, {'tagName': 'Segment Tree', 'problemsSolved': 1}, {'tagName': 'Monotonic Stack', 'problemsSolved': 7}, {'tagName': 'Monotonic Queue', 'problemsSolved': 1}, {'tagName': 'Topological Sort', 'problemsSolved': 2}], 'intermediate': [{'tagName': 'Tree', 'problemsSolved': 35}, {'tagName': 'Binary Tree', 'problemsSolved': 35}, {'tagName': 'Hash Table', 'problemsSolved': 52}, {'tagName': 'Graph', 'problemsSolved': 7}, {'tagName': 'Greedy', 'problemsSolved': 17}, {'tagName': 'Binary Search', 'problemsSolved': 26}, {'tagName': 'Depth-First Search', 'problemsSolved': 38}, {'tagName': 'Breadth-First Search', 'problemsSolved': 32}, {'tagName': 'Recursion', 'problemsSolved': 12}, {'tagName': 'Sliding Window', 'problemsSolved': 7}, {'tagName': 'Bit Manipulation', 'problemsSolved': 15}, {'tagName': 'Math', 'problemsSolved': 32}, {'tagName': 'Design', 'problemsSolved': 19}, {'tagName': 'Iterator', 'problemsSolved': 2}, {'tagName': 'Brainteaser', 'problemsSolved': 2}], 'fundamental': [{'tagName': 'Array', 'problemsSolved': 149}, {'tagName': 'Matrix', 'problemsSolved': 26}, {'tagName': 'String', 'problemsSolved': 69}, {'tagName': 'Simulation', 'problemsSolved': 9}, {'tagName': 'Enumeration', 'problemsSolved': 1}, {'tagName': 'Sorting', 'problemsSolved': 38}, {'tagName': 'Stack', 'problemsSolved': 28}, {'tagName': 'Queue', 'problemsSolved': 4}, {'tagName': 'Linked List', 'problemsSolved': 27}, {'tagName': 'Two Pointers', 'problemsSolved': 38}]}}}}\n"
     ]
    }
   ],
   "source": [
    "import requests\n",
    "\n",
    "body = \"\"\"\n",
    "query userPublicProfile($username: String!){\n",
    "    matchedUser(username: $username){\n",
    "        contestBadge {\n",
    "            name\n",
    "            expired\n",
    "            hoverText\n",
    "            icon\n",
    "        }\n",
    "        username\n",
    "        githubUrl\n",
    "        profile{\n",
    "            ranking\n",
    "            userAvatar\n",
    "            aboutMe\n",
    "            skillTags\n",
    "            reputation\n",
    "            solutionCount\n",
    "        }\n",
    "        submitStats {\n",
    "            acSubmissionNum {\n",
    "              difficulty\n",
    "              count\n",
    "              submissions\n",
    "            }\n",
    "        }\n",
    "        problemsSolvedBeatsStats{\n",
    "            difficulty\n",
    "            percentage\n",
    "        }\n",
    "        languageProblemCount {      \n",
    "            languageName\n",
    "            problemsSolved    \n",
    "        }\n",
    "        tagProblemCounts{\n",
    "            advanced{\n",
    "                tagName\n",
    "                problemsSolved\n",
    "            }\n",
    "            intermediate{\n",
    "                tagName\n",
    "                problemsSolved\n",
    "            }\n",
    "            fundamental{\n",
    "                tagName\n",
    "                problemsSolved\n",
    "            }\n",
    "        }\n",
    "    }\n",
    "}\"\"\"\n",
    "\n",
    "data = {\n",
    "    \"variables\": {\"username\": \"ScurySnek\"},\n",
    "    \"query\": body,\n",
    "}\n",
    "\n",
    "r = requests.post(\"https://leetcode.com/graphql\", json=data).json()\n",
    "print(r)"
   ]
  },
  {
   "cell_type": "code",
   "execution_count": 64,
   "id": "068b7ebd",
   "metadata": {},
   "outputs": [
    {
     "data": {
      "text/plain": [
       "[{'difficulty': 'Easy', 'percentage': 92.5},\n",
       " {'difficulty': 'Medium', 'percentage': 96.75},\n",
       " {'difficulty': 'Hard', 'percentage': 95.53}]"
      ]
     },
     "execution_count": 64,
     "metadata": {},
     "output_type": "execute_result"
    }
   ],
   "source": [
    "r['data']['matchedUser']['problemsSolvedBeatsStats']"
   ]
  },
  {
   "cell_type": "code",
   "execution_count": null,
   "id": "f5e6bd01",
   "metadata": {},
   "outputs": [],
   "source": []
  },
  {
   "cell_type": "code",
   "execution_count": 75,
   "id": "3dd5da23",
   "metadata": {},
   "outputs": [],
   "source": [
    "user = {}\n",
    "info['username'] = r['data']['matchedUser']['username']\n",
    "info['pfp'] = r['data']['matchedUser']['profile']['userAvatar']\n",
    "info['aboutMe'] = r['data']['matchedUser']['profile']['aboutMe']\n",
    "stats = {}\n",
    "stats['ranking'] = r['data']['matchedUser']['profile']['ranking']\n",
    "stats['totalSolved'] = r['data']['matchedUser']['submitStats']['acSubmissionNum'][0]['count']\n",
    "stats['hardSolve'] = {'count' : r['data']['matchedUser']['submitStats']['acSubmissionNum'][3]['count'],\n",
    "                      'beats' : r['data']['matchedUser']['problemsSolvedBeatsStats'][2]['percentage']}\n",
    "stats['medSolve'] = {'count' : r['data']['matchedUser']['submitStats']['acSubmissionNum'][2]['count'],\n",
    "                      'beats' : r['data']['matchedUser']['problemsSolvedBeatsStats'][1]['percentage']}\n",
    "stats['easySolve'] = {'count' : r['data']['matchedUser']['submitStats']['acSubmissionNum'][1]['count'],\n",
    "                      'beats' : r['data']['matchedUser']['problemsSolvedBeatsStats'][0]['percentage']}\n",
    "languageInfo = sorted(r['data']['matchedUser']['languageProblemCount'], key=lambda x : -x['problemsSolved'])\n",
    "user['info'] = info\n",
    "user['stats'] = stats\n",
    "user['languageInfo'] = languageInfo"
   ]
  },
  {
   "cell_type": "code",
   "execution_count": 76,
   "id": "f8bc1ebb",
   "metadata": {},
   "outputs": [
    {
     "data": {
      "text/plain": [
       "{'info': {'pfp': 'https://s3-us-west-1.amazonaws.com/s3-lc-upload/assets/default_avatar.jpg',\n",
       "  'aboutMe': '',\n",
       "  'username': 'ScurySnek'},\n",
       " 'stats': {'ranking': 165682,\n",
       "  'totalSolved': 294,\n",
       "  'hardSolve': {'count': 20, 'beats': 77.53},\n",
       "  'medSolve': {'count': 168, 'beats': 92.65},\n",
       "  'easySolve': {'count': 106, 'beats': 92.23}},\n",
       " 'languageInfo': [{'languageName': 'Python3', 'problemsSolved': 221},\n",
       "  {'languageName': 'C++', 'problemsSolved': 94},\n",
       "  {'languageName': 'Python', 'problemsSolved': 59},\n",
       "  {'languageName': 'Java', 'problemsSolved': 6}]}"
      ]
     },
     "execution_count": 76,
     "metadata": {},
     "output_type": "execute_result"
    }
   ],
   "source": [
    "user"
   ]
  },
  {
   "cell_type": "code",
   "execution_count": 49,
   "id": "d434bb5e",
   "metadata": {
    "scrolled": true
   },
   "outputs": [
    {
     "data": {
      "text/plain": [
       "[{'languageName': 'Python3', 'problemsSolved': 221},\n",
       " {'languageName': 'C++', 'problemsSolved': 94},\n",
       " {'languageName': 'Python', 'problemsSolved': 59},\n",
       " {'languageName': 'Java', 'problemsSolved': 6}]"
      ]
     },
     "execution_count": 49,
     "metadata": {},
     "output_type": "execute_result"
    }
   ],
   "source": [
    "languageInfo"
   ]
  },
  {
   "cell_type": "code",
   "execution_count": null,
   "id": "4f4283c8",
   "metadata": {},
   "outputs": [],
   "source": []
  },
  {
   "cell_type": "code",
   "execution_count": null,
   "id": "85525422",
   "metadata": {},
   "outputs": [],
   "source": []
  }
 ],
 "metadata": {
  "kernelspec": {
   "display_name": "Python 3 (ipykernel)",
   "language": "python",
   "name": "python3"
  },
  "language_info": {
   "codemirror_mode": {
    "name": "ipython",
    "version": 3
   },
   "file_extension": ".py",
   "mimetype": "text/x-python",
   "name": "python",
   "nbconvert_exporter": "python",
   "pygments_lexer": "ipython3",
   "version": "3.9.7"
  }
 },
 "nbformat": 4,
 "nbformat_minor": 5
}
